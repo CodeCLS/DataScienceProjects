{
 "metadata": {
  "kernelspec": {
   "language": "python",
   "display_name": "Python 3",
   "name": "python3"
  },
  "language_info": {
   "name": "python",
   "version": "3.10.14",
   "mimetype": "text/x-python",
   "codemirror_mode": {
    "name": "ipython",
    "version": 3
   },
   "pygments_lexer": "ipython3",
   "nbconvert_exporter": "python",
   "file_extension": ".py"
  },
  "kaggle": {
   "accelerator": "none",
   "dataSources": [
    {
     "sourceId": 23498,
     "sourceType": "datasetVersion",
     "datasetId": 310
    }
   ],
   "dockerImageVersionId": 30786,
   "isInternetEnabled": true,
   "language": "python",
   "sourceType": "notebook",
   "isGpuEnabled": false
  }
 },
 "nbformat_minor": 4,
 "nbformat": 4,
 "cells": [
  {
   "cell_type": "code",
   "source": [
    "# This Python 3 environment comes with many helpful analytics libraries installed\n",
    "# It is defined by the kaggle/python Docker image: https://github.com/kaggle/docker-python\n",
    "# For example, here's several helpful packages to load\n",
    "\n",
    "import numpy as np # linear algebra\n",
    "import pandas as pd # data processing, CSV file I/O (e.g. pd.read_csv)\n"
   ],
   "metadata": {
    "_uuid": "8f2839f25d086af736a60e9eeb907d3b93b6e0e5",
    "_cell_guid": "b1076dfc-b9ad-4769-8c92-a6c4dae69d19",
    "execution": {
     "iopub.status.busy": "2024-11-01T11:38:15.890542Z",
     "iopub.execute_input": "2024-11-01T11:38:15.891019Z",
     "iopub.status.idle": "2024-11-01T11:38:17.0651Z",
     "shell.execute_reply.started": "2024-11-01T11:38:15.890971Z",
     "shell.execute_reply": "2024-11-01T11:38:17.063509Z"
    },
    "trusted": true,
    "ExecuteTime": {
     "end_time": "2024-11-14T20:10:10.143200Z",
     "start_time": "2024-11-14T20:10:09.427792Z"
    }
   },
   "outputs": [],
   "execution_count": 1
  },
  {
   "cell_type": "code",
   "source": [
    "from sklearn.model_selection import train_test_split\n",
    "from sklearn.linear_model import LogisticRegression\n",
    "from sklearn.metrics import accuracy_score"
   ],
   "metadata": {
    "execution": {
     "iopub.status.busy": "2024-11-01T11:38:27.368822Z",
     "iopub.execute_input": "2024-11-01T11:38:27.369705Z",
     "iopub.status.idle": "2024-11-01T11:38:28.25914Z",
     "shell.execute_reply.started": "2024-11-01T11:38:27.369642Z",
     "shell.execute_reply": "2024-11-01T11:38:28.257838Z"
    },
    "trusted": true,
    "ExecuteTime": {
     "end_time": "2024-11-14T20:10:12.903262Z",
     "start_time": "2024-11-14T20:10:11.301678Z"
    }
   },
   "outputs": [],
   "execution_count": 2
  },
  {
   "cell_type": "code",
   "source": [
    "credit_card_data=pd.read_csv('fraud_data.csv')\n",
    "credit_card_data.head()\n",
    "credit_card_data.drop(columns=['Expiry',\"Profession\"], inplace=True)"
   ],
   "metadata": {
    "execution": {
     "iopub.status.busy": "2024-11-01T11:38:30.504596Z",
     "iopub.execute_input": "2024-11-01T11:38:30.505195Z",
     "iopub.status.idle": "2024-11-01T11:38:34.975299Z",
     "shell.execute_reply.started": "2024-11-01T11:38:30.505152Z",
     "shell.execute_reply": "2024-11-01T11:38:34.973853Z"
    },
    "trusted": true,
    "ExecuteTime": {
     "end_time": "2024-11-14T20:12:22.619230Z",
     "start_time": "2024-11-14T20:12:22.602475Z"
    }
   },
   "outputs": [],
   "execution_count": 21
  },
  {
   "cell_type": "code",
   "source": [
    "credit_card_data.info()\n"
   ],
   "metadata": {
    "execution": {
     "iopub.status.busy": "2024-11-01T11:38:46.147133Z",
     "iopub.execute_input": "2024-11-01T11:38:46.147604Z",
     "iopub.status.idle": "2024-11-01T11:38:46.204286Z",
     "shell.execute_reply.started": "2024-11-01T11:38:46.147564Z",
     "shell.execute_reply": "2024-11-01T11:38:46.202957Z"
    },
    "trusted": true,
    "ExecuteTime": {
     "end_time": "2024-11-14T20:12:24.252820Z",
     "start_time": "2024-11-14T20:12:24.245969Z"
    }
   },
   "outputs": [
    {
     "name": "stdout",
     "output_type": "stream",
     "text": [
      "<class 'pandas.core.frame.DataFrame'>\n",
      "RangeIndex: 10000 entries, 0 to 9999\n",
      "Data columns (total 4 columns):\n",
      " #   Column              Non-Null Count  Dtype\n",
      "---  ------              --------------  -----\n",
      " 0   Income              10000 non-null  int64\n",
      " 1   Credit_card_number  10000 non-null  int64\n",
      " 2   Security_code       10000 non-null  int64\n",
      " 3   Fraud               10000 non-null  int64\n",
      "dtypes: int64(4)\n",
      "memory usage: 312.6 KB\n"
     ]
    }
   ],
   "execution_count": 22
  },
  {
   "cell_type": "code",
   "source": [
    "credit_card_data['Fraud'].value_counts()"
   ],
   "metadata": {
    "execution": {
     "iopub.status.busy": "2024-11-01T11:39:02.892934Z",
     "iopub.execute_input": "2024-11-01T11:39:02.893412Z",
     "iopub.status.idle": "2024-11-01T11:39:02.907979Z",
     "shell.execute_reply.started": "2024-11-01T11:39:02.893371Z",
     "shell.execute_reply": "2024-11-01T11:39:02.906835Z"
    },
    "trusted": true,
    "ExecuteTime": {
     "end_time": "2024-11-14T20:12:26.292350Z",
     "start_time": "2024-11-14T20:12:26.286220Z"
    }
   },
   "outputs": [
    {
     "data": {
      "text/plain": "Fraud\n1    5016\n0    4984\nName: count, dtype: int64"
     },
     "execution_count": 23,
     "metadata": {},
     "output_type": "execute_result"
    }
   ],
   "execution_count": 23
  },
  {
   "cell_type": "code",
   "source": [
    "not_fraud = credit_card_data[credit_card_data.Fraud == 0]\n",
    "fraud = credit_card_data[credit_card_data.Fraud == 1]"
   ],
   "metadata": {
    "execution": {
     "iopub.status.busy": "2024-11-01T11:39:15.990462Z",
     "iopub.execute_input": "2024-11-01T11:39:15.991115Z",
     "iopub.status.idle": "2024-11-01T11:39:16.050037Z",
     "shell.execute_reply.started": "2024-11-01T11:39:15.991055Z",
     "shell.execute_reply": "2024-11-01T11:39:16.048719Z"
    },
    "trusted": true,
    "ExecuteTime": {
     "end_time": "2024-11-14T20:12:28.178829Z",
     "start_time": "2024-11-14T20:12:28.173971Z"
    }
   },
   "outputs": [],
   "execution_count": 24
  },
  {
   "cell_type": "code",
   "source": [
    "not_fraud_sample = not_fraud.sample(n=492) #takes a random sample of 492 rows from the not_fraud DataFrame.\n",
    "new_dataset = pd.concat([not_fraud_sample, fraud], axis=0)"
   ],
   "metadata": {
    "execution": {
     "iopub.status.busy": "2024-11-01T11:39:46.386221Z",
     "iopub.execute_input": "2024-11-01T11:39:46.386638Z",
     "iopub.status.idle": "2024-11-01T11:39:46.404432Z",
     "shell.execute_reply.started": "2024-11-01T11:39:46.386599Z",
     "shell.execute_reply": "2024-11-01T11:39:46.403189Z"
    },
    "trusted": true,
    "ExecuteTime": {
     "end_time": "2024-11-14T20:12:29.586162Z",
     "start_time": "2024-11-14T20:12:29.581685Z"
    }
   },
   "outputs": [],
   "execution_count": 25
  },
  {
   "cell_type": "code",
   "source": [
    "new_dataset.head()"
   ],
   "metadata": {
    "execution": {
     "iopub.status.busy": "2024-11-01T11:42:24.20221Z",
     "iopub.execute_input": "2024-11-01T11:42:24.203311Z",
     "iopub.status.idle": "2024-11-01T11:42:24.233635Z",
     "shell.execute_reply.started": "2024-11-01T11:42:24.20324Z",
     "shell.execute_reply": "2024-11-01T11:42:24.232226Z"
    },
    "trusted": true,
    "ExecuteTime": {
     "end_time": "2024-11-14T20:12:31.120488Z",
     "start_time": "2024-11-14T20:12:31.111758Z"
    }
   },
   "outputs": [
    {
     "data": {
      "text/plain": "      Income  Credit_card_number  Security_code  Fraud\n8827   19796    3517881960473331            246      0\n5250   25042        676217201190            707      0\n9328   65035     340662369943804            901      0\n5236   49046     341347070398717           8426      0\n6791   22808    3531609077448207            123      0",
      "text/html": "<div>\n<style scoped>\n    .dataframe tbody tr th:only-of-type {\n        vertical-align: middle;\n    }\n\n    .dataframe tbody tr th {\n        vertical-align: top;\n    }\n\n    .dataframe thead th {\n        text-align: right;\n    }\n</style>\n<table border=\"1\" class=\"dataframe\">\n  <thead>\n    <tr style=\"text-align: right;\">\n      <th></th>\n      <th>Income</th>\n      <th>Credit_card_number</th>\n      <th>Security_code</th>\n      <th>Fraud</th>\n    </tr>\n  </thead>\n  <tbody>\n    <tr>\n      <th>8827</th>\n      <td>19796</td>\n      <td>3517881960473331</td>\n      <td>246</td>\n      <td>0</td>\n    </tr>\n    <tr>\n      <th>5250</th>\n      <td>25042</td>\n      <td>676217201190</td>\n      <td>707</td>\n      <td>0</td>\n    </tr>\n    <tr>\n      <th>9328</th>\n      <td>65035</td>\n      <td>340662369943804</td>\n      <td>901</td>\n      <td>0</td>\n    </tr>\n    <tr>\n      <th>5236</th>\n      <td>49046</td>\n      <td>341347070398717</td>\n      <td>8426</td>\n      <td>0</td>\n    </tr>\n    <tr>\n      <th>6791</th>\n      <td>22808</td>\n      <td>3531609077448207</td>\n      <td>123</td>\n      <td>0</td>\n    </tr>\n  </tbody>\n</table>\n</div>"
     },
     "execution_count": 26,
     "metadata": {},
     "output_type": "execute_result"
    }
   ],
   "execution_count": 26
  },
  {
   "cell_type": "code",
   "source": [
    "new_dataset['Fraud'].value_counts()"
   ],
   "metadata": {
    "execution": {
     "iopub.status.busy": "2024-11-01T11:42:46.188269Z",
     "iopub.execute_input": "2024-11-01T11:42:46.188744Z",
     "iopub.status.idle": "2024-11-01T11:42:46.200575Z",
     "shell.execute_reply.started": "2024-11-01T11:42:46.188693Z",
     "shell.execute_reply": "2024-11-01T11:42:46.199026Z"
    },
    "trusted": true,
    "ExecuteTime": {
     "end_time": "2024-11-14T20:12:33.870943Z",
     "start_time": "2024-11-14T20:12:33.821837Z"
    }
   },
   "outputs": [
    {
     "data": {
      "text/plain": "Fraud\n1    5016\n0     492\nName: count, dtype: int64"
     },
     "execution_count": 27,
     "metadata": {},
     "output_type": "execute_result"
    }
   ],
   "execution_count": 27
  },
  {
   "cell_type": "code",
   "source": [
    "X = new_dataset.drop(columns='Fraud', axis=1)\n",
    "Y = new_dataset['Fraud']\n",
    "X_train, X_test, Y_train, Y_test = train_test_split(X, Y, test_size=0.2, stratify=Y, random_state=2)"
   ],
   "metadata": {
    "execution": {
     "iopub.status.busy": "2024-11-01T11:44:08.954392Z",
     "iopub.execute_input": "2024-11-01T11:44:08.955259Z",
     "iopub.status.idle": "2024-11-01T11:44:08.968273Z",
     "shell.execute_reply.started": "2024-11-01T11:44:08.955211Z",
     "shell.execute_reply": "2024-11-01T11:44:08.966916Z"
    },
    "trusted": true,
    "ExecuteTime": {
     "end_time": "2024-11-14T20:12:35.618539Z",
     "start_time": "2024-11-14T20:12:35.610698Z"
    }
   },
   "outputs": [],
   "execution_count": 28
  },
  {
   "cell_type": "code",
   "source": [
    "model = LogisticRegression()\n",
    "model.fit(X_train, Y_train)"
   ],
   "metadata": {
    "execution": {
     "iopub.status.busy": "2024-11-01T11:44:40.512463Z",
     "iopub.execute_input": "2024-11-01T11:44:40.512951Z",
     "iopub.status.idle": "2024-11-01T11:44:40.567594Z",
     "shell.execute_reply.started": "2024-11-01T11:44:40.512888Z",
     "shell.execute_reply": "2024-11-01T11:44:40.566373Z"
    },
    "trusted": true,
    "ExecuteTime": {
     "end_time": "2024-11-14T20:12:37.003848Z",
     "start_time": "2024-11-14T20:12:36.982034Z"
    }
   },
   "outputs": [
    {
     "data": {
      "text/plain": "LogisticRegression()",
      "text/html": "<style>#sk-container-id-1 {\n  /* Definition of color scheme common for light and dark mode */\n  --sklearn-color-text: black;\n  --sklearn-color-line: gray;\n  /* Definition of color scheme for unfitted estimators */\n  --sklearn-color-unfitted-level-0: #fff5e6;\n  --sklearn-color-unfitted-level-1: #f6e4d2;\n  --sklearn-color-unfitted-level-2: #ffe0b3;\n  --sklearn-color-unfitted-level-3: chocolate;\n  /* Definition of color scheme for fitted estimators */\n  --sklearn-color-fitted-level-0: #f0f8ff;\n  --sklearn-color-fitted-level-1: #d4ebff;\n  --sklearn-color-fitted-level-2: #b3dbfd;\n  --sklearn-color-fitted-level-3: cornflowerblue;\n\n  /* Specific color for light theme */\n  --sklearn-color-text-on-default-background: var(--sg-text-color, var(--theme-code-foreground, var(--jp-content-font-color1, black)));\n  --sklearn-color-background: var(--sg-background-color, var(--theme-background, var(--jp-layout-color0, white)));\n  --sklearn-color-border-box: var(--sg-text-color, var(--theme-code-foreground, var(--jp-content-font-color1, black)));\n  --sklearn-color-icon: #696969;\n\n  @media (prefers-color-scheme: dark) {\n    /* Redefinition of color scheme for dark theme */\n    --sklearn-color-text-on-default-background: var(--sg-text-color, var(--theme-code-foreground, var(--jp-content-font-color1, white)));\n    --sklearn-color-background: var(--sg-background-color, var(--theme-background, var(--jp-layout-color0, #111)));\n    --sklearn-color-border-box: var(--sg-text-color, var(--theme-code-foreground, var(--jp-content-font-color1, white)));\n    --sklearn-color-icon: #878787;\n  }\n}\n\n#sk-container-id-1 {\n  color: var(--sklearn-color-text);\n}\n\n#sk-container-id-1 pre {\n  padding: 0;\n}\n\n#sk-container-id-1 input.sk-hidden--visually {\n  border: 0;\n  clip: rect(1px 1px 1px 1px);\n  clip: rect(1px, 1px, 1px, 1px);\n  height: 1px;\n  margin: -1px;\n  overflow: hidden;\n  padding: 0;\n  position: absolute;\n  width: 1px;\n}\n\n#sk-container-id-1 div.sk-dashed-wrapped {\n  border: 1px dashed var(--sklearn-color-line);\n  margin: 0 0.4em 0.5em 0.4em;\n  box-sizing: border-box;\n  padding-bottom: 0.4em;\n  background-color: var(--sklearn-color-background);\n}\n\n#sk-container-id-1 div.sk-container {\n  /* jupyter's `normalize.less` sets `[hidden] { display: none; }`\n     but bootstrap.min.css set `[hidden] { display: none !important; }`\n     so we also need the `!important` here to be able to override the\n     default hidden behavior on the sphinx rendered scikit-learn.org.\n     See: https://github.com/scikit-learn/scikit-learn/issues/21755 */\n  display: inline-block !important;\n  position: relative;\n}\n\n#sk-container-id-1 div.sk-text-repr-fallback {\n  display: none;\n}\n\ndiv.sk-parallel-item,\ndiv.sk-serial,\ndiv.sk-item {\n  /* draw centered vertical line to link estimators */\n  background-image: linear-gradient(var(--sklearn-color-text-on-default-background), var(--sklearn-color-text-on-default-background));\n  background-size: 2px 100%;\n  background-repeat: no-repeat;\n  background-position: center center;\n}\n\n/* Parallel-specific style estimator block */\n\n#sk-container-id-1 div.sk-parallel-item::after {\n  content: \"\";\n  width: 100%;\n  border-bottom: 2px solid var(--sklearn-color-text-on-default-background);\n  flex-grow: 1;\n}\n\n#sk-container-id-1 div.sk-parallel {\n  display: flex;\n  align-items: stretch;\n  justify-content: center;\n  background-color: var(--sklearn-color-background);\n  position: relative;\n}\n\n#sk-container-id-1 div.sk-parallel-item {\n  display: flex;\n  flex-direction: column;\n}\n\n#sk-container-id-1 div.sk-parallel-item:first-child::after {\n  align-self: flex-end;\n  width: 50%;\n}\n\n#sk-container-id-1 div.sk-parallel-item:last-child::after {\n  align-self: flex-start;\n  width: 50%;\n}\n\n#sk-container-id-1 div.sk-parallel-item:only-child::after {\n  width: 0;\n}\n\n/* Serial-specific style estimator block */\n\n#sk-container-id-1 div.sk-serial {\n  display: flex;\n  flex-direction: column;\n  align-items: center;\n  background-color: var(--sklearn-color-background);\n  padding-right: 1em;\n  padding-left: 1em;\n}\n\n\n/* Toggleable style: style used for estimator/Pipeline/ColumnTransformer box that is\nclickable and can be expanded/collapsed.\n- Pipeline and ColumnTransformer use this feature and define the default style\n- Estimators will overwrite some part of the style using the `sk-estimator` class\n*/\n\n/* Pipeline and ColumnTransformer style (default) */\n\n#sk-container-id-1 div.sk-toggleable {\n  /* Default theme specific background. It is overwritten whether we have a\n  specific estimator or a Pipeline/ColumnTransformer */\n  background-color: var(--sklearn-color-background);\n}\n\n/* Toggleable label */\n#sk-container-id-1 label.sk-toggleable__label {\n  cursor: pointer;\n  display: block;\n  width: 100%;\n  margin-bottom: 0;\n  padding: 0.5em;\n  box-sizing: border-box;\n  text-align: center;\n}\n\n#sk-container-id-1 label.sk-toggleable__label-arrow:before {\n  /* Arrow on the left of the label */\n  content: \"▸\";\n  float: left;\n  margin-right: 0.25em;\n  color: var(--sklearn-color-icon);\n}\n\n#sk-container-id-1 label.sk-toggleable__label-arrow:hover:before {\n  color: var(--sklearn-color-text);\n}\n\n/* Toggleable content - dropdown */\n\n#sk-container-id-1 div.sk-toggleable__content {\n  max-height: 0;\n  max-width: 0;\n  overflow: hidden;\n  text-align: left;\n  /* unfitted */\n  background-color: var(--sklearn-color-unfitted-level-0);\n}\n\n#sk-container-id-1 div.sk-toggleable__content.fitted {\n  /* fitted */\n  background-color: var(--sklearn-color-fitted-level-0);\n}\n\n#sk-container-id-1 div.sk-toggleable__content pre {\n  margin: 0.2em;\n  border-radius: 0.25em;\n  color: var(--sklearn-color-text);\n  /* unfitted */\n  background-color: var(--sklearn-color-unfitted-level-0);\n}\n\n#sk-container-id-1 div.sk-toggleable__content.fitted pre {\n  /* unfitted */\n  background-color: var(--sklearn-color-fitted-level-0);\n}\n\n#sk-container-id-1 input.sk-toggleable__control:checked~div.sk-toggleable__content {\n  /* Expand drop-down */\n  max-height: 200px;\n  max-width: 100%;\n  overflow: auto;\n}\n\n#sk-container-id-1 input.sk-toggleable__control:checked~label.sk-toggleable__label-arrow:before {\n  content: \"▾\";\n}\n\n/* Pipeline/ColumnTransformer-specific style */\n\n#sk-container-id-1 div.sk-label input.sk-toggleable__control:checked~label.sk-toggleable__label {\n  color: var(--sklearn-color-text);\n  background-color: var(--sklearn-color-unfitted-level-2);\n}\n\n#sk-container-id-1 div.sk-label.fitted input.sk-toggleable__control:checked~label.sk-toggleable__label {\n  background-color: var(--sklearn-color-fitted-level-2);\n}\n\n/* Estimator-specific style */\n\n/* Colorize estimator box */\n#sk-container-id-1 div.sk-estimator input.sk-toggleable__control:checked~label.sk-toggleable__label {\n  /* unfitted */\n  background-color: var(--sklearn-color-unfitted-level-2);\n}\n\n#sk-container-id-1 div.sk-estimator.fitted input.sk-toggleable__control:checked~label.sk-toggleable__label {\n  /* fitted */\n  background-color: var(--sklearn-color-fitted-level-2);\n}\n\n#sk-container-id-1 div.sk-label label.sk-toggleable__label,\n#sk-container-id-1 div.sk-label label {\n  /* The background is the default theme color */\n  color: var(--sklearn-color-text-on-default-background);\n}\n\n/* On hover, darken the color of the background */\n#sk-container-id-1 div.sk-label:hover label.sk-toggleable__label {\n  color: var(--sklearn-color-text);\n  background-color: var(--sklearn-color-unfitted-level-2);\n}\n\n/* Label box, darken color on hover, fitted */\n#sk-container-id-1 div.sk-label.fitted:hover label.sk-toggleable__label.fitted {\n  color: var(--sklearn-color-text);\n  background-color: var(--sklearn-color-fitted-level-2);\n}\n\n/* Estimator label */\n\n#sk-container-id-1 div.sk-label label {\n  font-family: monospace;\n  font-weight: bold;\n  display: inline-block;\n  line-height: 1.2em;\n}\n\n#sk-container-id-1 div.sk-label-container {\n  text-align: center;\n}\n\n/* Estimator-specific */\n#sk-container-id-1 div.sk-estimator {\n  font-family: monospace;\n  border: 1px dotted var(--sklearn-color-border-box);\n  border-radius: 0.25em;\n  box-sizing: border-box;\n  margin-bottom: 0.5em;\n  /* unfitted */\n  background-color: var(--sklearn-color-unfitted-level-0);\n}\n\n#sk-container-id-1 div.sk-estimator.fitted {\n  /* fitted */\n  background-color: var(--sklearn-color-fitted-level-0);\n}\n\n/* on hover */\n#sk-container-id-1 div.sk-estimator:hover {\n  /* unfitted */\n  background-color: var(--sklearn-color-unfitted-level-2);\n}\n\n#sk-container-id-1 div.sk-estimator.fitted:hover {\n  /* fitted */\n  background-color: var(--sklearn-color-fitted-level-2);\n}\n\n/* Specification for estimator info (e.g. \"i\" and \"?\") */\n\n/* Common style for \"i\" and \"?\" */\n\n.sk-estimator-doc-link,\na:link.sk-estimator-doc-link,\na:visited.sk-estimator-doc-link {\n  float: right;\n  font-size: smaller;\n  line-height: 1em;\n  font-family: monospace;\n  background-color: var(--sklearn-color-background);\n  border-radius: 1em;\n  height: 1em;\n  width: 1em;\n  text-decoration: none !important;\n  margin-left: 1ex;\n  /* unfitted */\n  border: var(--sklearn-color-unfitted-level-1) 1pt solid;\n  color: var(--sklearn-color-unfitted-level-1);\n}\n\n.sk-estimator-doc-link.fitted,\na:link.sk-estimator-doc-link.fitted,\na:visited.sk-estimator-doc-link.fitted {\n  /* fitted */\n  border: var(--sklearn-color-fitted-level-1) 1pt solid;\n  color: var(--sklearn-color-fitted-level-1);\n}\n\n/* On hover */\ndiv.sk-estimator:hover .sk-estimator-doc-link:hover,\n.sk-estimator-doc-link:hover,\ndiv.sk-label-container:hover .sk-estimator-doc-link:hover,\n.sk-estimator-doc-link:hover {\n  /* unfitted */\n  background-color: var(--sklearn-color-unfitted-level-3);\n  color: var(--sklearn-color-background);\n  text-decoration: none;\n}\n\ndiv.sk-estimator.fitted:hover .sk-estimator-doc-link.fitted:hover,\n.sk-estimator-doc-link.fitted:hover,\ndiv.sk-label-container:hover .sk-estimator-doc-link.fitted:hover,\n.sk-estimator-doc-link.fitted:hover {\n  /* fitted */\n  background-color: var(--sklearn-color-fitted-level-3);\n  color: var(--sklearn-color-background);\n  text-decoration: none;\n}\n\n/* Span, style for the box shown on hovering the info icon */\n.sk-estimator-doc-link span {\n  display: none;\n  z-index: 9999;\n  position: relative;\n  font-weight: normal;\n  right: .2ex;\n  padding: .5ex;\n  margin: .5ex;\n  width: min-content;\n  min-width: 20ex;\n  max-width: 50ex;\n  color: var(--sklearn-color-text);\n  box-shadow: 2pt 2pt 4pt #999;\n  /* unfitted */\n  background: var(--sklearn-color-unfitted-level-0);\n  border: .5pt solid var(--sklearn-color-unfitted-level-3);\n}\n\n.sk-estimator-doc-link.fitted span {\n  /* fitted */\n  background: var(--sklearn-color-fitted-level-0);\n  border: var(--sklearn-color-fitted-level-3);\n}\n\n.sk-estimator-doc-link:hover span {\n  display: block;\n}\n\n/* \"?\"-specific style due to the `<a>` HTML tag */\n\n#sk-container-id-1 a.estimator_doc_link {\n  float: right;\n  font-size: 1rem;\n  line-height: 1em;\n  font-family: monospace;\n  background-color: var(--sklearn-color-background);\n  border-radius: 1rem;\n  height: 1rem;\n  width: 1rem;\n  text-decoration: none;\n  /* unfitted */\n  color: var(--sklearn-color-unfitted-level-1);\n  border: var(--sklearn-color-unfitted-level-1) 1pt solid;\n}\n\n#sk-container-id-1 a.estimator_doc_link.fitted {\n  /* fitted */\n  border: var(--sklearn-color-fitted-level-1) 1pt solid;\n  color: var(--sklearn-color-fitted-level-1);\n}\n\n/* On hover */\n#sk-container-id-1 a.estimator_doc_link:hover {\n  /* unfitted */\n  background-color: var(--sklearn-color-unfitted-level-3);\n  color: var(--sklearn-color-background);\n  text-decoration: none;\n}\n\n#sk-container-id-1 a.estimator_doc_link.fitted:hover {\n  /* fitted */\n  background-color: var(--sklearn-color-fitted-level-3);\n}\n</style><div id=\"sk-container-id-1\" class=\"sk-top-container\"><div class=\"sk-text-repr-fallback\"><pre>LogisticRegression()</pre><b>In a Jupyter environment, please rerun this cell to show the HTML representation or trust the notebook. <br />On GitHub, the HTML representation is unable to render, please try loading this page with nbviewer.org.</b></div><div class=\"sk-container\" hidden><div class=\"sk-item\"><div class=\"sk-estimator fitted sk-toggleable\"><input class=\"sk-toggleable__control sk-hidden--visually\" id=\"sk-estimator-id-1\" type=\"checkbox\" checked><label for=\"sk-estimator-id-1\" class=\"sk-toggleable__label fitted sk-toggleable__label-arrow fitted\">&nbsp;&nbsp;LogisticRegression<a class=\"sk-estimator-doc-link fitted\" rel=\"noreferrer\" target=\"_blank\" href=\"https://scikit-learn.org/1.5/modules/generated/sklearn.linear_model.LogisticRegression.html\">?<span>Documentation for LogisticRegression</span></a><span class=\"sk-estimator-doc-link fitted\">i<span>Fitted</span></span></label><div class=\"sk-toggleable__content fitted\"><pre>LogisticRegression()</pre></div> </div></div></div></div>"
     },
     "execution_count": 29,
     "metadata": {},
     "output_type": "execute_result"
    }
   ],
   "execution_count": 29
  },
  {
   "cell_type": "code",
   "source": [
    "X_train_prediction = model.predict(X_train)\n",
    "training_data_accuracy = accuracy_score(X_train_prediction, Y_train)\n",
    "print('Accuracy on Training data : ', training_data_accuracy)"
   ],
   "metadata": {
    "execution": {
     "iopub.status.busy": "2024-11-01T11:44:57.573924Z",
     "iopub.execute_input": "2024-11-01T11:44:57.574464Z",
     "iopub.status.idle": "2024-11-01T11:44:57.589023Z",
     "shell.execute_reply.started": "2024-11-01T11:44:57.574417Z",
     "shell.execute_reply": "2024-11-01T11:44:57.587406Z"
    },
    "trusted": true,
    "ExecuteTime": {
     "end_time": "2024-11-14T20:12:39.061718Z",
     "start_time": "2024-11-14T20:12:39.055504Z"
    }
   },
   "outputs": [
    {
     "name": "stdout",
     "output_type": "stream",
     "text": [
      "Accuracy on Training data :  0.9105764866091693\n"
     ]
    }
   ],
   "execution_count": 30
  },
  {
   "cell_type": "code",
   "source": [
    "X_test_prediction = model.predict(X_test)\n",
    "test_data_accuracy = accuracy_score(X_test_prediction, Y_test)\n",
    "print('Accuracy score on Test Data : ', test_data_accuracy)"
   ],
   "metadata": {
    "execution": {
     "iopub.status.busy": "2024-11-01T11:45:20.717377Z",
     "iopub.execute_input": "2024-11-01T11:45:20.718423Z",
     "iopub.status.idle": "2024-11-01T11:45:20.729507Z",
     "shell.execute_reply.started": "2024-11-01T11:45:20.718364Z",
     "shell.execute_reply": "2024-11-01T11:45:20.728171Z"
    },
    "trusted": true,
    "ExecuteTime": {
     "end_time": "2024-11-14T20:12:42.522990Z",
     "start_time": "2024-11-14T20:12:42.515192Z"
    }
   },
   "outputs": [
    {
     "name": "stdout",
     "output_type": "stream",
     "text": [
      "Accuracy score on Test Data :  0.911070780399274\n"
     ]
    }
   ],
   "execution_count": 31
  }
 ]
}
